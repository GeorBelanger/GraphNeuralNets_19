{
 "cells": [
  {
   "cell_type": "markdown",
   "metadata": {
    "toc": true
   },
   "source": [
    "<h1>Table of Contents<span class=\"tocSkip\"></span></h1>\n",
    "<div class=\"toc\"><ul class=\"toc-item\"><li><span><a href=\"#Graph-Convolution-Neural-Networks\" data-toc-modified-id=\"Graph-Convolution-Neural-Networks-1\"><span class=\"toc-item-num\">1&nbsp;&nbsp;</span>Graph Convolution Neural Networks</a></span><ul class=\"toc-item\"><li><span><a href=\"#Clonar-repo-en-colab\" data-toc-modified-id=\"Clonar-repo-en-colab-1.1\"><span class=\"toc-item-num\">1.1&nbsp;&nbsp;</span>Clonar repo en colab</a></span></li><li><span><a href=\"#Modulos-basicos\" data-toc-modified-id=\"Modulos-basicos-1.2\"><span class=\"toc-item-num\">1.2&nbsp;&nbsp;</span>Modulos basicos</a></span></li><li><span><a href=\"#Modulos-locales-al-repo\" data-toc-modified-id=\"Modulos-locales-al-repo-1.3\"><span class=\"toc-item-num\">1.3&nbsp;&nbsp;</span>Modulos locales al repo</a></span></li><li><span><a href=\"#Variables-importantes-del-notebook\" data-toc-modified-id=\"Variables-importantes-del-notebook-1.4\"><span class=\"toc-item-num\">1.4&nbsp;&nbsp;</span>Variables importantes del notebook</a></span></li></ul></li><li><span><a href=\"#Task-and-data:-predict-solubility-(logP)-💧\" data-toc-modified-id=\"Task-and-data:-predict-solubility-(logP)-💧-2\"><span class=\"toc-item-num\">2&nbsp;&nbsp;</span>Task and data: predict solubility (logP) 💧</a></span><ul class=\"toc-item\"><li><ul class=\"toc-item\"><li><ul class=\"toc-item\"><li><span><a href=\"#Machine-learning-and-deep-learning-in-a-nutshell\" data-toc-modified-id=\"Machine-learning-and-deep-learning-in-a-nutshell-2.0.0.1\"><span class=\"toc-item-num\">2.0.0.1&nbsp;&nbsp;</span>Machine learning and deep learning in a nutshell</a></span></li></ul></li></ul></li><li><span><a href=\"#Let's-load-some-molecular-data-with-🐼s\" data-toc-modified-id=\"Let's-load-some-molecular-data-with-🐼s-2.1\"><span class=\"toc-item-num\">2.1&nbsp;&nbsp;</span>Let's load some molecular data with 🐼s</a></span></li><li><span><a href=\"#Train/test-splits-and-preprocessing\" data-toc-modified-id=\"Train/test-splits-and-preprocessing-2.2\"><span class=\"toc-item-num\">2.2&nbsp;&nbsp;</span>Train/test splits and preprocessing</a></span></li><li><span><a href=\"#Exploratory-data-analysis-(EDA)\" data-toc-modified-id=\"Exploratory-data-analysis-(EDA)-2.3\"><span class=\"toc-item-num\">2.3&nbsp;&nbsp;</span>Exploratory data analysis (EDA)</a></span></li></ul></li><li><span><a href=\"#ML\" data-toc-modified-id=\"ML-3\"><span class=\"toc-item-num\">3&nbsp;&nbsp;</span>ML</a></span><ul class=\"toc-item\"><li><span><a href=\"#Data-design-matrix-($X$,-$Y$)\" data-toc-modified-id=\"Data-design-matrix-($X$,-$Y$)-3.1\"><span class=\"toc-item-num\">3.1&nbsp;&nbsp;</span>Data design matrix ($X$, $Y$)</a></span></li></ul></li></ul></div>"
   ]
  },
  {
   "cell_type": "markdown",
   "metadata": {},
   "source": [
    "# Graph Convolution Neural Networks\n",
    "\n",
    "Ejecutar este notebook via colab:\n",
    "<a href=\"https://colab.research.google.com/github/riiaa19_workshop_template/blob/master/notebooks/11_Colab_ejemplo.ipynb\" target=\"_parent\"><img src=\"https://colab.research.google.com/assets/colab-badge.svg\" alt=\"Open In Colab\"/></a>"
   ]
  },
  {
   "cell_type": "markdown",
   "metadata": {},
   "source": [
    "## Clonar repo en colab"
   ]
  },
  {
   "cell_type": "code",
   "execution_count": 5,
   "metadata": {
    "ExecuteTime": {
     "end_time": "2019-08-16T20:24:26.450965Z",
     "start_time": "2019-08-16T20:24:26.429214Z"
    }
   },
   "outputs": [
    {
     "name": "stdout",
     "output_type": "stream",
     "text": [
      "Using colab? False, using root directory \"..\"\n"
     ]
    }
   ],
   "source": [
    "import os\n",
    "import subprocess\n",
    "import sys\n",
    "\n",
    "GIT_NAME='GraphNeuralNets_19'\n",
    "GIT_URL='https://riiaa@github.com/riiaa/{}.git'.format(GIT_NAME)\n",
    "IN_COLAB = 'google.colab' in sys.modules\n",
    "\n",
    "def run_cmd(cmd):\n",
    "    print('Output of \"{}\":'.format(cmd))\n",
    "    print(subprocess.run(cmd,stdout=subprocess.PIPE, shell=True).stdout.decode('utf-8'))\n",
    "\n",
    "def run_cmd_list(cmd_list):\n",
    "    [run_cmd(cmd) for cmd in cmd_list]\n",
    "        \n",
    "\n",
    "def install_rdkit():\n",
    "    cmd_list = [\n",
    "        \"wget -c https://repo.continuum.io/miniconda/Miniconda3-latest-Linux-x86_64.sh\",\n",
    "        \"chmod +x Miniconda3-latest-Linux-x86_64.sh\",\n",
    "        \"bash ./Miniconda3-latest-Linux-x86_64.sh -b -f -p /usr/local\",\n",
    "        \"conda install -q -y -c conda-forge rdkit\",\n",
    "        \"rm -rf Miniconda3-latest-Linux-x86_64.sh\"]\n",
    "    print('Installing rdkit\\n\\n')\n",
    "    run_cmd_list(cmd_list)\n",
    "    custom_path = '/usr/local/lib/python3.7/site-packages/'\n",
    "    print('Do not forget to append \"{}\"\" to sys.path'.format(custom_path))\n",
    "\n",
    "if IN_COLAB:\n",
    "    SRC_DIR='.'\n",
    "    run_cmd('apt install graphviz libgraphviz-dev libcgraph6')\n",
    "    run_cmd('rm -rf sample_data')\n",
    "    run_cmd('rm -rf {}'.format(GIT_NAME))\n",
    "    run_cmd('git clone --verbose --progress {}'.format(GIT_URL))\n",
    "    run_cmd('mv {}/* . '.format(GIT_NAME))\n",
    "    run_cmd('rm -rf {}'.format(GIT_NAME))\n",
    "    run_cmd('pip install spektral')\n",
    "    install_rdkit()\n",
    "else:\n",
    "    SRC_DIR='..'\n",
    "    \n",
    "print('Using colab? {}, using root directory \"{}\"'.format(IN_COLAB,SRC_DIR))"
   ]
  },
  {
   "cell_type": "code",
   "execution_count": null,
   "metadata": {},
   "outputs": [],
   "source": [
    "import sys\n",
    "if 'google.colab' in sys.modules:\n",
    "    sys.path.append('/usr/local/lib/python3.7/site-packages/')"
   ]
  },
  {
   "cell_type": "code",
   "execution_count": 4,
   "metadata": {
    "ExecuteTime": {
     "end_time": "2019-08-29T20:23:34.009741Z",
     "start_time": "2019-08-29T20:23:25.626875Z"
    }
   },
   "outputs": [
    {
     "name": "stdout",
     "output_type": "stream",
     "text": [
      "Collecting spektral\n",
      "\u001b[33m  Retrying (Retry(total=4, connect=None, read=None, redirect=None, status=None)) after connection broken by 'NewConnectionError('<pip._vendor.urllib3.connection.VerifiedHTTPSConnection object at 0x7fe716aab9b0>: Failed to establish a new connection: [Errno -2] Name or service not known')': /simple/spektral/\u001b[0m\n",
      "\u001b[33m  Retrying (Retry(total=3, connect=None, read=None, redirect=None, status=None)) after connection broken by 'NewConnectionError('<pip._vendor.urllib3.connection.VerifiedHTTPSConnection object at 0x7fe716aab6a0>: Failed to establish a new connection: [Errno -2] Name or service not known')': /simple/spektral/\u001b[0m\n",
      "\u001b[33m  Retrying (Retry(total=2, connect=None, read=None, redirect=None, status=None)) after connection broken by 'NewConnectionError('<pip._vendor.urllib3.connection.VerifiedHTTPSConnection object at 0x7fe716aab5f8>: Failed to establish a new connection: [Errno -2] Name or service not known')': /simple/spektral/\u001b[0m\n",
      "\u001b[33m  Retrying (Retry(total=1, connect=None, read=None, redirect=None, status=None)) after connection broken by 'NewConnectionError('<pip._vendor.urllib3.connection.VerifiedHTTPSConnection object at 0x7fe716aab400>: Failed to establish a new connection: [Errno -2] Name or service not known')': /simple/spektral/\u001b[0m\n",
      "\u001b[33m  Retrying (Retry(total=0, connect=None, read=None, redirect=None, status=None)) after connection broken by 'NewConnectionError('<pip._vendor.urllib3.connection.VerifiedHTTPSConnection object at 0x7fe716aab3c8>: Failed to establish a new connection: [Errno -2] Name or service not known')': /simple/spektral/\u001b[0m\n",
      "\u001b[31m  Could not find a version that satisfies the requirement spektral (from versions: )\u001b[0m\n",
      "\u001b[31mNo matching distribution found for spektral\u001b[0m\n",
      "Note: you may need to restart the kernel to use updated packages.\n"
     ]
    }
   ],
   "source": [
    "pip install spektral"
   ]
  },
  {
   "cell_type": "markdown",
   "metadata": {},
   "source": [
    "## Modulos basicos"
   ]
  },
  {
   "cell_type": "code",
   "execution_count": 6,
   "metadata": {
    "ExecuteTime": {
     "end_time": "2019-08-16T20:24:28.274556Z",
     "start_time": "2019-08-16T20:24:27.064147Z"
    }
   },
   "outputs": [
    {
     "name": "stderr",
     "output_type": "stream",
     "text": [
      "/home/beangoben/anaconda3/lib/python3.7/site-packages/tqdm/autonotebook/__init__.py:14: TqdmExperimentalWarning: Using `tqdm.autonotebook.tqdm` in notebook mode. Use `tqdm.tqdm` instead to force console mode (e.g. in jupyter console)\n",
      "  \" (e.g. in jupyter console)\", TqdmExperimentalWarning)\n"
     ]
    }
   ],
   "source": [
    "from collections import OrderedDict\n",
    "\n",
    "from tqdm import tqdm\n",
    "\n",
    "# scientific python stack\n",
    "import numpy as np\n",
    "import scipy as sp\n",
    "import pandas as pd\n",
    "import matplotlib.pyplot as plt\n",
    "import seaborn as sns\n",
    "\n",
    "# Chemo-informatics\n",
    "import rdkit\n",
    "from rdkit import Chem\n",
    "from rdkit.Chem import AllChem\n",
    "from rdkit.Chem import Draw\n",
    "from rdkit.Chem.Draw.MolDrawing import MolDrawing\n",
    "from rdkit.Chem.Draw import IPythonConsole\n",
    "print('RDKit:{}'.format(rdkit.__version__))\n",
    "# ML/DL\n",
    "import sklearn\n",
    "import sklearn.model_selection\n",
    "import sklearn.metrics\n",
    "import tensorflow as tf\n",
    "import tensorflow.keras as keras\n",
    "from tensorflow.keras import layers\n",
    "\n",
    "print('Tensorflow:{}'.format(tf.__version__))\n",
    "print('Keras:{}'.format(keras.__version__))"
   ]
  },
  {
   "cell_type": "markdown",
   "metadata": {},
   "source": [
    "## Modulos locales al repo"
   ]
  },
  {
   "cell_type": "code",
   "execution_count": 7,
   "metadata": {
    "ExecuteTime": {
     "end_time": "2019-08-16T20:24:28.279991Z",
     "start_time": "2019-08-16T20:24:28.276743Z"
    }
   },
   "outputs": [],
   "source": [
    "sys.path.append(os.path.join(SRC_DIR,'code'))\n",
    "import utils"
   ]
  },
  {
   "cell_type": "markdown",
   "metadata": {},
   "source": [
    "## Variables importantes del notebook"
   ]
  },
  {
   "cell_type": "code",
   "execution_count": 8,
   "metadata": {
    "ExecuteTime": {
     "end_time": "2019-08-16T20:24:28.763859Z",
     "start_time": "2019-08-16T20:24:28.755398Z"
    }
   },
   "outputs": [],
   "source": [
    "data_path = os.path.join(SRC_DIR,'data')"
   ]
  },
  {
   "cell_type": "markdown",
   "metadata": {},
   "source": [
    "# Task and data: predict solubility (logP) 💧\n",
    "\n",
    "Datatset source: Delaney's solubility dataset from ESOL:  Estimating Aqueous Solubility Directly from Molecular Structure\n",
    "(https://pubs.acs.org/doi/10.1021/ci034243x)\n",
    "\n",
    " \n",
    "#### Machine learning and deep learning in a nutshell\n",
    "\n",
    "![](https://github.com/beangoben/chemistry_ml_colab/blob/master/images/ml_dl.png?raw=true)\n"
   ]
  },
  {
   "cell_type": "markdown",
   "metadata": {
    "ExecuteTime": {
     "end_time": "2019-08-16T20:24:41.593272Z",
     "start_time": "2019-08-16T20:24:41.554423Z"
    }
   },
   "source": [
    "## Let's load some molecular data with 🐼s"
   ]
  },
  {
   "cell_type": "code",
   "execution_count": 2,
   "metadata": {
    "ExecuteTime": {
     "end_time": "2019-08-29T20:17:09.673208Z",
     "start_time": "2019-08-29T20:17:09.654863Z"
    }
   },
   "outputs": [
    {
     "ename": "NameError",
     "evalue": "name 'pd' is not defined",
     "output_type": "error",
     "traceback": [
      "\u001b[0;31m---------------------------------------------------------------------------\u001b[0m",
      "\u001b[0;31mNameError\u001b[0m                                 Traceback (most recent call last)",
      "\u001b[0;32m<ipython-input-2-f2789a260072>\u001b[0m in \u001b[0;36m<module>\u001b[0;34m\u001b[0m\n\u001b[0;32m----> 1\u001b[0;31m \u001b[0mdf\u001b[0m \u001b[0;34m=\u001b[0m \u001b[0mpd\u001b[0m\u001b[0;34m.\u001b[0m\u001b[0mread_csv\u001b[0m\u001b[0;34m(\u001b[0m\u001b[0;34m'data/solubility.csv'\u001b[0m\u001b[0;34m)\u001b[0m\u001b[0;34m\u001b[0m\u001b[0;34m\u001b[0m\u001b[0m\n\u001b[0m\u001b[1;32m      2\u001b[0m \u001b[0mprint\u001b[0m\u001b[0;34m(\u001b[0m\u001b[0mdf\u001b[0m\u001b[0;34m.\u001b[0m\u001b[0mshape\u001b[0m\u001b[0;34m)\u001b[0m\u001b[0;34m\u001b[0m\u001b[0;34m\u001b[0m\u001b[0m\n\u001b[1;32m      3\u001b[0m \u001b[0mprint\u001b[0m\u001b[0;34m(\u001b[0m\u001b[0mdf\u001b[0m\u001b[0;34m.\u001b[0m\u001b[0mcolumns\u001b[0m\u001b[0;34m)\u001b[0m\u001b[0;34m\u001b[0m\u001b[0;34m\u001b[0m\u001b[0m\n\u001b[1;32m      4\u001b[0m \u001b[0msmiles_column\u001b[0m\u001b[0;34m=\u001b[0m\u001b[0;34m'smiles'\u001b[0m\u001b[0;34m\u001b[0m\u001b[0;34m\u001b[0m\u001b[0m\n\u001b[1;32m      5\u001b[0m \u001b[0mtarget\u001b[0m\u001b[0;34m=\u001b[0m\u001b[0;34m'measured log solubility in mols per litre'\u001b[0m\u001b[0;34m\u001b[0m\u001b[0;34m\u001b[0m\u001b[0m\n",
      "\u001b[0;31mNameError\u001b[0m: name 'pd' is not defined"
     ]
    }
   ],
   "source": [
    "df = pd.read_csv('data/solubility.csv')\n",
    "print(df.shape)\n",
    "print(df.columns)\n",
    "smiles_column='smiles'\n",
    "target='measured log solubility in mols per litre'\n",
    "df.head()"
   ]
  },
  {
   "cell_type": "markdown",
   "metadata": {},
   "source": [
    "## Train/test splits and preprocessing"
   ]
  },
  {
   "cell_type": "code",
   "execution_count": 1,
   "metadata": {
    "ExecuteTime": {
     "end_time": "2019-08-29T20:17:06.816360Z",
     "start_time": "2019-08-29T20:17:06.718338Z"
    }
   },
   "outputs": [
    {
     "ename": "NameError",
     "evalue": "name 'df' is not defined",
     "output_type": "error",
     "traceback": [
      "\u001b[0;31m---------------------------------------------------------------------------\u001b[0m",
      "\u001b[0;31mNameError\u001b[0m                                 Traceback (most recent call last)",
      "\u001b[0;32m<ipython-input-1-e6974aa07528>\u001b[0m in \u001b[0;36m<module>\u001b[0;34m\u001b[0m\n\u001b[0;32m----> 1\u001b[0;31m \u001b[0my\u001b[0m \u001b[0;34m=\u001b[0m \u001b[0mdf\u001b[0m\u001b[0;34m[\u001b[0m\u001b[0mtarget\u001b[0m\u001b[0;34m]\u001b[0m\u001b[0;34m.\u001b[0m\u001b[0mvalues\u001b[0m\u001b[0;34m.\u001b[0m\u001b[0mreshape\u001b[0m\u001b[0;34m(\u001b[0m\u001b[0;34m-\u001b[0m\u001b[0;36m1\u001b[0m\u001b[0;34m,\u001b[0m\u001b[0;36m1\u001b[0m\u001b[0;34m)\u001b[0m\u001b[0;34m\u001b[0m\u001b[0;34m\u001b[0m\u001b[0m\n\u001b[0m\u001b[1;32m      2\u001b[0m \u001b[0mprint\u001b[0m\u001b[0;34m(\u001b[0m\u001b[0my\u001b[0m\u001b[0;34m.\u001b[0m\u001b[0mshape\u001b[0m\u001b[0;34m)\u001b[0m\u001b[0;34m\u001b[0m\u001b[0;34m\u001b[0m\u001b[0m\n\u001b[1;32m      3\u001b[0m \u001b[0;34m\u001b[0m\u001b[0m\n\u001b[1;32m      4\u001b[0m \u001b[0;34m\u001b[0m\u001b[0m\n\u001b[1;32m      5\u001b[0m \u001b[0mindices\u001b[0m\u001b[0;34m=\u001b[0m\u001b[0mdf\u001b[0m\u001b[0;34m.\u001b[0m\u001b[0mindex\u001b[0m\u001b[0;34m.\u001b[0m\u001b[0mtolist\u001b[0m\u001b[0;34m(\u001b[0m\u001b[0;34m)\u001b[0m\u001b[0;34m\u001b[0m\u001b[0;34m\u001b[0m\u001b[0m\n",
      "\u001b[0;31mNameError\u001b[0m: name 'df' is not defined"
     ]
    }
   ],
   "source": [
    "y = df[target].values.reshape(-1,1)\n",
    "print(y.shape)\n",
    "\n",
    "\n",
    "indices=df.index.tolist()\n",
    "train_index,test_index = sklearn.model_selection.train_test_split(indices)\n",
    "print(len(train_index),len(test_index))\n",
    "\n",
    "sns.distplot(y)\n",
    "plt.xlabel(target)\n",
    "plt.show()"
   ]
  },
  {
   "cell_type": "markdown",
   "metadata": {},
   "source": [
    "## Exploratory data analysis (EDA)"
   ]
  },
  {
   "cell_type": "markdown",
   "metadata": {},
   "source": [
    "# ML\n",
    "## Data design matrix ($X$, $Y$)"
   ]
  },
  {
   "cell_type": "code",
   "execution_count": null,
   "metadata": {},
   "outputs": [],
   "source": []
  }
 ],
 "metadata": {
  "kernelspec": {
   "display_name": "Python 3",
   "language": "python",
   "name": "python3"
  },
  "language_info": {
   "codemirror_mode": {
    "name": "ipython",
    "version": 3
   },
   "file_extension": ".py",
   "mimetype": "text/x-python",
   "name": "python",
   "nbconvert_exporter": "python",
   "pygments_lexer": "ipython3",
   "version": "3.7.3"
  },
  "toc": {
   "base_numbering": 1,
   "nav_menu": {},
   "number_sections": true,
   "sideBar": true,
   "skip_h1_title": false,
   "title_cell": "Table of Contents",
   "title_sidebar": "Contents",
   "toc_cell": true,
   "toc_position": {},
   "toc_section_display": true,
   "toc_window_display": true
  }
 },
 "nbformat": 4,
 "nbformat_minor": 2
}
